{
 "cells": [
  {
   "cell_type": "code",
   "execution_count": 1,
   "metadata": {},
   "outputs": [
    {
     "name": "stdout",
     "output_type": "stream",
     "text": [
      "K-fold CV (k=5) Mean Accuracy for Logistic Regression: 0.9733\n",
      "K-fold CV (k=5) Mean Accuracy for Decision Tree: 0.9533\n",
      "Leave-One-Out CV Mean Accuracy for Logistic Regression: 0.9667\n",
      "Leave-One-Out CV Mean Accuracy for Decision Tree: 0.9467\n"
     ]
    }
   ],
   "source": [
    "from sklearn.model_selection import KFold, LeaveOneOut\n",
    "from sklearn.datasets import load_iris\n",
    "from sklearn.linear_model import LogisticRegression\n",
    "from sklearn.tree import DecisionTreeClassifier\n",
    "from sklearn.metrics import accuracy_score\n",
    "import numpy as np\n",
    "\n",
    "# Cargar el dataset\n",
    "data = load_iris()\n",
    "X = data.data\n",
    "y = data.target\n",
    "\n",
    "# Modelos a evaluar\n",
    "model1 = LogisticRegression(max_iter=200)\n",
    "model2 = DecisionTreeClassifier()\n",
    "\n",
    "# Función para realizar K-fold CV\n",
    "def k_fold_cv(model, X, y, k=5):\n",
    "    kf = KFold(n_splits=k, shuffle=True, random_state=42)\n",
    "    accuracies = []\n",
    "    for train_index, test_index in kf.split(X):\n",
    "        X_train, X_test = X[train_index], X[test_index]\n",
    "        y_train, y_test = y[train_index], y[test_index]\n",
    "        model.fit(X_train, y_train)\n",
    "        y_pred = model.predict(X_test)\n",
    "        accuracies.append(accuracy_score(y_test, y_pred))\n",
    "    return np.mean(accuracies)\n",
    "\n",
    "# Función para realizar LOO-CV\n",
    "def loo_cv(model, X, y):\n",
    "    loo = LeaveOneOut()\n",
    "    accuracies = []\n",
    "    for train_index, test_index in loo.split(X):\n",
    "        X_train, X_test = X[train_index], X[test_index]\n",
    "        y_train, y_test = y[train_index], y[test_index]\n",
    "        model.fit(X_train, y_train)\n",
    "        y_pred = model.predict(X_test)\n",
    "        accuracies.append(accuracy_score(y_test, y_pred))\n",
    "    return np.mean(accuracies)\n",
    "\n",
    "# Evaluar los modelos con K-fold CV\n",
    "k = 5\n",
    "model1_kf_accuracy = k_fold_cv(model1, X, y, k)\n",
    "model2_kf_accuracy = k_fold_cv(model2, X, y, k)\n",
    "\n",
    "# Evaluar los modelos con LOO-CV\n",
    "model1_loo_accuracy = loo_cv(model1, X, y)\n",
    "model2_loo_accuracy = loo_cv(model2, X, y)\n",
    "\n",
    "# Imprimir los resultados\n",
    "print(f\"K-fold CV (k={k}) Mean Accuracy for Logistic Regression: {model1_kf_accuracy:.4f}\")\n",
    "print(f\"K-fold CV (k={k}) Mean Accuracy for Decision Tree: {model2_kf_accuracy:.4f}\")\n",
    "print(f\"Leave-One-Out CV Mean Accuracy for Logistic Regression: {model1_loo_accuracy:.4f}\")\n",
    "print(f\"Leave-One-Out CV Mean Accuracy for Decision Tree: {model2_loo_accuracy:.4f}\")"
   ]
  }
 ],
 "metadata": {
  "kernelspec": {
   "display_name": "Diplomado",
   "language": "python",
   "name": "python3"
  },
  "language_info": {
   "codemirror_mode": {
    "name": "ipython",
    "version": 3
   },
   "file_extension": ".py",
   "mimetype": "text/x-python",
   "name": "python",
   "nbconvert_exporter": "python",
   "pygments_lexer": "ipython3",
   "version": "3.10.14"
  }
 },
 "nbformat": 4,
 "nbformat_minor": 2
}
